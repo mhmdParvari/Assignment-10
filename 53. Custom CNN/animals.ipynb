{
  "cells": [
    {
      "cell_type": "markdown",
      "metadata": {
        "id": "view-in-github",
        "colab_type": "text"
      },
      "source": [
        "<a href=\"https://colab.research.google.com/github/mhmdParvari/Assignment-10/blob/main/53.%20Custom%20CNN/animals.ipynb\" target=\"_parent\"><img src=\"https://colab.research.google.com/assets/colab-badge.svg\" alt=\"Open In Colab\"/></a>"
      ]
    },
    {
      "cell_type": "code",
      "execution_count": 1,
      "metadata": {
        "id": "a-05c2202ZV3"
      },
      "outputs": [],
      "source": [
        "import os\n",
        "import tensorflow as tf\n",
        "from tensorflow.keras import layers\n",
        "from tensorflow.keras import models"
      ]
    },
    {
      "cell_type": "markdown",
      "metadata": {
        "id": "6M9qEtNj3OUe"
      },
      "source": [
        "## Augmenting the dataset"
      ]
    },
    {
      "cell_type": "code",
      "execution_count": null,
      "metadata": {
        "id": "8O0Cm6Sj3ckv"
      },
      "outputs": [],
      "source": [
        "import imageio\n",
        "from imgaug import augmenters as iaa"
      ]
    },
    {
      "cell_type": "code",
      "execution_count": null,
      "metadata": {
        "id": "t0IvuS394z2Y"
      },
      "outputs": [],
      "source": [
        "seq = iaa.Sequential([\n",
        "    iaa.Affine(rotate=(-45, 45)),\n",
        "    iaa.AdditiveGaussianNoise(scale=(10, 60)),\n",
        "    iaa.Crop(percent=(0, 0.2)),\n",
        "    iaa.Fliplr(.5)\n",
        "], random_order=True)"
      ]
    },
    {
      "cell_type": "code",
      "execution_count": null,
      "metadata": {
        "colab": {
          "background_save": true
        },
        "id": "7-3DoaFvpWa7"
      },
      "outputs": [],
      "source": [
        "root = '/content/drive/MyDrive/datasets/animal'\n",
        "labels = os.listdir(root)\n",
        "for label in labels:\n",
        "  for img in os.listdir(os.path.join(root, label)):\n",
        "    img_path = os.path.join(root, label, img)\n",
        "    image = imageio.imread(img_path)\n",
        "    aug_imgs = [seq(image=image) for _ in range(2)]\n",
        "    new_path = os.path.join('/content/drive/MyDrive/datasets/animal_augmented', label)\n",
        "    for i, aug_img in enumerate(aug_imgs):\n",
        "      imageio.imwrite(os.path.join(new_path, f'aug{i+1}_'+img), aug_img)\n",
        "    imageio.imwrite(os.path.join(new_path, img), image)"
      ]
    },
    {
      "cell_type": "markdown",
      "source": [
        "## Loading the augmented dataset"
      ],
      "metadata": {
        "id": "ipf0kn9qjwcV"
      }
    },
    {
      "cell_type": "code",
      "execution_count": 31,
      "metadata": {
        "colab": {
          "base_uri": "https://localhost:8080/"
        },
        "id": "DPPHiPzyJofm",
        "outputId": "cf8dfc10-9bf2-4860-e3a0-4f06e506d22a"
      },
      "outputs": [
        {
          "output_type": "stream",
          "name": "stdout",
          "text": [
            "Found 3130 images belonging to 5 classes.\n",
            "Found 779 images belonging to 5 classes.\n"
          ]
        }
      ],
      "source": [
        "from tensorflow.keras.preprocessing.image import ImageDataGenerator\n",
        "\n",
        "dataset_path = '/content/drive/MyDrive/datasets/animal_augmented'\n",
        "idg = ImageDataGenerator(rescale=1./255, validation_split=.2)\n",
        "\n",
        "train_data = idg.flow_from_directory(dataset_path, shuffle=True, subset='training', target_size=(224,224))\n",
        "validation_datas = idg.flow_from_directory(dataset_path, shuffle=True, subset='validation', target_size=(224,224))"
      ]
    },
    {
      "cell_type": "markdown",
      "source": [
        "## model"
      ],
      "metadata": {
        "id": "EYIamYaYleIG"
      }
    },
    {
      "cell_type": "code",
      "execution_count": null,
      "metadata": {
        "id": "AHSb3bd0GcS1"
      },
      "outputs": [],
      "source": [
        "# vgg16\n",
        "# model = models.Sequential([\n",
        "#     layers.Conv2D(input_shape=(224,224,3), filters=64, kernel_size=(3,3), padding='same', activation='relu'),\n",
        "#     layers.Conv2D(64, (3,3), padding='same', activation='relu'),\n",
        "#     layers.MaxPool2D(pool_size=(2,2), strides=(2,2)),\n",
        "#     layers.Conv2D(128, (3,3), padding='same', activation='relu'),\n",
        "#     layers.Conv2D(128, (3,3), padding='same', activation='relu'),\n",
        "#     layers.MaxPool2D(pool_size=(2,2), strides=(2,2)),\n",
        "#     layers.Conv2D(256, (3,3), padding='same', activation='relu'),\n",
        "#     layers.Conv2D(256, (3,3), padding='same', activation='relu'),\n",
        "#     layers.Conv2D(256, (3,3), padding='same', activation='relu'),\n",
        "#     layers.MaxPool2D(pool_size=(2,2), strides=(2,2)),\n",
        "#     layers.Conv2D(512, (3,3), padding='same', activation='relu'),\n",
        "#     layers.Conv2D(512, (3,3), padding='same', activation='relu'),\n",
        "#     layers.Conv2D(512, (3,3), padding='same', activation='relu'),\n",
        "#     layers.MaxPool2D(pool_size=(2,2), strides=(2,2)),\n",
        "#     layers.Conv2D(512, (3,3), padding='same', activation='relu'),\n",
        "#     layers.Conv2D(512, (3,3), padding='same', activation='relu'),\n",
        "#     layers.Conv2D(512, (3,3), padding='same', activation='relu'),\n",
        "#     layers.MaxPool2D(pool_size=(2,2), strides=(2,2)),\n",
        "#     layers.Flatten(),\n",
        "\n",
        "#     layers.Dense(256, 'relu'),\n",
        "#     layers.Dense(128, 'relu'),\n",
        "#     layers.Dense(5, 'softmax'),\n",
        "# ])"
      ]
    },
    {
      "cell_type": "code",
      "source": [
        "model = models.Sequential([\n",
        "    layers.Conv2D(64, (3, 3), activation=\"relu\", input_shape=(224, 224, 3)),\n",
        "    layers.MaxPooling2D(),\n",
        "    layers.Conv2D(32, (3, 3), activation=\"relu\"),\n",
        "    layers.MaxPooling2D(),\n",
        "    layers.Conv2D(64, (3, 3), activation=\"relu\"),\n",
        "    layers.MaxPooling2D(),\n",
        "\n",
        "    layers.Flatten(),\n",
        "\n",
        "    layers.Dense(512, activation=\"relu\"),\n",
        "    layers.Dense(5, activation=\"softmax\"),\n",
        "])"
      ],
      "metadata": {
        "id": "XZRHkaNNfDwp"
      },
      "execution_count": 32,
      "outputs": []
    },
    {
      "cell_type": "code",
      "execution_count": 33,
      "metadata": {
        "id": "VBDRfH0WpaTR",
        "colab": {
          "base_uri": "https://localhost:8080/"
        },
        "outputId": "77b8b2d4-51e5-444a-a656-d9839dc038ff"
      },
      "outputs": [
        {
          "output_type": "stream",
          "name": "stdout",
          "text": [
            "Epoch 1/10\n",
            "98/98 [==============================] - 44s 415ms/step - loss: 1.6089 - accuracy: 0.3173 - val_loss: 1.5213 - val_accuracy: 0.3453\n",
            "Epoch 2/10\n",
            "98/98 [==============================] - 39s 395ms/step - loss: 1.1954 - accuracy: 0.5067 - val_loss: 1.1139 - val_accuracy: 0.5392\n",
            "Epoch 3/10\n",
            "98/98 [==============================] - 40s 412ms/step - loss: 0.9145 - accuracy: 0.6419 - val_loss: 1.0702 - val_accuracy: 0.5738\n",
            "Epoch 4/10\n",
            "98/98 [==============================] - 39s 402ms/step - loss: 0.5845 - accuracy: 0.7850 - val_loss: 1.0257 - val_accuracy: 0.6046\n",
            "Epoch 5/10\n",
            "98/98 [==============================] - 40s 404ms/step - loss: 0.2847 - accuracy: 0.9032 - val_loss: 1.3123 - val_accuracy: 0.6136\n",
            "Epoch 6/10\n",
            "98/98 [==============================] - 39s 402ms/step - loss: 0.1193 - accuracy: 0.9594 - val_loss: 1.8683 - val_accuracy: 0.5905\n",
            "Epoch 7/10\n",
            "98/98 [==============================] - 40s 412ms/step - loss: 0.0740 - accuracy: 0.9789 - val_loss: 1.8187 - val_accuracy: 0.6213\n",
            "Epoch 8/10\n",
            "98/98 [==============================] - 41s 416ms/step - loss: 0.0504 - accuracy: 0.9847 - val_loss: 1.9437 - val_accuracy: 0.5815\n",
            "Epoch 9/10\n",
            "98/98 [==============================] - 39s 395ms/step - loss: 0.0554 - accuracy: 0.9834 - val_loss: 2.3430 - val_accuracy: 0.5892\n",
            "Epoch 10/10\n",
            "98/98 [==============================] - 38s 387ms/step - loss: 0.0549 - accuracy: 0.9827 - val_loss: 2.1998 - val_accuracy: 0.6059\n"
          ]
        },
        {
          "output_type": "execute_result",
          "data": {
            "text/plain": [
              "<keras.src.callbacks.History at 0x7953c05c2530>"
            ]
          },
          "metadata": {},
          "execution_count": 33
        }
      ],
      "source": [
        "model.compile(tf.keras.optimizers.Adam(), tf.keras.losses.categorical_crossentropy, metrics=['accuracy'])\n",
        "model.fit(train_data, epochs=10, validation_data=validation_datas)"
      ]
    },
    {
      "cell_type": "markdown",
      "source": [
        "## confusion matrix"
      ],
      "metadata": {
        "id": "Ls9j3ctOg745"
      }
    },
    {
      "cell_type": "code",
      "execution_count": 34,
      "metadata": {
        "id": "FBpOJik3pkA1",
        "colab": {
          "base_uri": "https://localhost:8080/",
          "height": 552
        },
        "outputId": "547f520f-f1ee-4b3e-8997-fb94c253462e"
      },
      "outputs": [
        {
          "output_type": "stream",
          "name": "stdout",
          "text": [
            "25/25 [==============================] - 11s 411ms/step\n",
            "[[37 37 28 25 45]\n",
            " [38 34 23 38 54]\n",
            " [27 20 18 26 36]\n",
            " [31 20 18 28 37]\n",
            " [39 26 25 29 40]]\n"
          ]
        },
        {
          "output_type": "execute_result",
          "data": {
            "text/plain": [
              "<matplotlib.colorbar.Colorbar at 0x79542e4e29b0>"
            ]
          },
          "metadata": {},
          "execution_count": 34
        },
        {
          "output_type": "display_data",
          "data": {
            "text/plain": [
              "<Figure size 640x480 with 2 Axes>"
            ],
            "image/png": "[encoded data removed]"
          },
          "metadata": {}
        }
      ],
      "source": [
        "import numpy as np\n",
        "from sklearn.metrics import confusion_matrix\n",
        "import matplotlib.pyplot as plt\n",
        "import seaborn as sns\n",
        "\n",
        "y_predict = model.predict(validation_datas)\n",
        "y_pred = np.argmax(y_predict, axis=1)\n",
        "m = confusion_matrix(validation_datas.labels, y_pred)\n",
        "print(m)\n",
        "plt.imshow(m)\n",
        "plt.colorbar()"
      ]
    }
  ],
  "metadata": {
    "colab": {
      "provenance": [],
      "gpuType": "T4",
      "mount_file_id": "1JjJasdraWsXAfBT-Cx1LEsoKyyzFNEqo",
      "authorship_tag": "ABX9TyMHrrxbgJ1rfsqHn1qITF3e",
      "include_colab_link": true
    },
    "kernelspec": {
      "display_name": "Python 3",
      "name": "python3"
    },
    "language_info": {
      "name": "python"
    },
    "accelerator": "GPU"
  },
  "nbformat": 4,
  "nbformat_minor": 0
}